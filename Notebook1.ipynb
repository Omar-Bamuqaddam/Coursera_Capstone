{
    "nbformat_minor": 1, 
    "cells": [
        {
            "source": "import pandas as pd \ndf = pd.DataFrame({ \n    'Fname':['Harry','Sally','Paul','Abe','June','Mike','Tom'], \n    'Age':[21,34,42,18,24,80,22], \n    'Weight': [180, 130, 200, 140, 176, 142, 210], \n    'Gender':['M','F','M','M','F','M','M'], \n    'State':['Washington','Oregon','California','Washington','Nevada','Texas','Nevada'],\n    'Children':[4,1,2,3,0,2,0],\n    'Pets':[3,2,2,5,0,1,5] \n}) \nprint (df)", 
            "cell_type": "code", 
            "execution_count": 1, 
            "outputs": [
                {
                    "output_type": "stream", 
                    "name": "stdout", 
                    "text": "   Fname  Age  Weight Gender       State  Children  Pets\n0  Harry   21     180      M  Washington         4     3\n1  Sally   34     130      F      Oregon         1     2\n2   Paul   42     200      M  California         2     2\n3    Abe   18     140      M  Washington         3     5\n4   June   24     176      F      Nevada         0     0\n5   Mike   80     142      M       Texas         2     1\n6    Tom   22     210      M      Nevada         0     5\n"
                }
            ], 
            "metadata": {}
        }, 
        {
            "source": "", 
            "cell_type": "code", 
            "execution_count": null, 
            "outputs": [], 
            "metadata": {}
        }
    ], 
    "nbformat": 4, 
    "metadata": {
        "kernelspec": {
            "display_name": "Python 3.6", 
            "name": "python3", 
            "language": "python"
        }, 
        "language_info": {
            "mimetype": "text/x-python", 
            "nbconvert_exporter": "python", 
            "version": "3.6.8", 
            "name": "python", 
            "pygments_lexer": "ipython3", 
            "file_extension": ".py", 
            "codemirror_mode": {
                "version": 3, 
                "name": "ipython"
            }
        }
    }
}