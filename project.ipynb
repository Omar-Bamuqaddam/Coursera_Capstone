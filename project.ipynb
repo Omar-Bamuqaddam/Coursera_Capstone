{
    "nbformat_minor": 1, 
    "cells": [
        {
            "source": "## Business Problem", 
            "cell_type": "markdown", 
            "metadata": {
                "collapsed": true
            }
        }, 
        {
            "source": "    I just finished university and started thinking about opening a business for me and I was confused between opening a restaurant or cafe in addition, if I open a restaurant I have to think about the cuisine I want to choose.What arabic cuisine should I choose. I will choose either a cafe or restaurant and the cuisine of the restaurant based on which neighbour have the most Arabic population.\n", 
            "cell_type": "markdown", 
            "metadata": {}
        }, 
        {
            "source": "## Data", 
            "cell_type": "markdown", 
            "metadata": {}
        }, 
        {
            "source": "    I will use foursquare to determine the best state and best neighbour", 
            "cell_type": "markdown", 
            "metadata": {}
        }, 
        {
            "execution_count": null, 
            "cell_type": "code", 
            "metadata": {}, 
            "outputs": [], 
            "source": ""
        }
    ], 
    "metadata": {
        "kernelspec": {
            "display_name": "Python 3.6", 
            "name": "python3", 
            "language": "python"
        }, 
        "language_info": {
            "mimetype": "text/x-python", 
            "nbconvert_exporter": "python", 
            "version": "3.6.8", 
            "name": "python", 
            "file_extension": ".py", 
            "pygments_lexer": "ipython3", 
            "codemirror_mode": {
                "version": 3, 
                "name": "ipython"
            }
        }
    }, 
    "nbformat": 4
}
